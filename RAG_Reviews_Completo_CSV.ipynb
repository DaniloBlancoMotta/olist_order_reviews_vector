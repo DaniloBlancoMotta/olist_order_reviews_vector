{
  "cells": [
    {
      "cell_type": "markdown",
      "id": "085d86a0",
      "metadata": {},
      "source": [
        "# 📘 Notebook RAG com CSV: Análise de Reviews com Busca Semântica\n",
        "Este notebook guia a criação de embeddings para comentários de clientes e busca por similaridade usando FAISS.\n",
        "\n",
        "**Dataset**: `olist_order_reviews_dataset.csv`\n",
        "\n",
        "🔁 Leitura → Limpeza → Embeddings → Indexação → Busca"
      ]
    },
    {
      "cell_type": "markdown",
      "id": "e3c9bfde",
      "metadata": {},
      "source": [
        "## 📥 Etapa 1: Leitura e limpeza dos dados"
      ]
    },
    {
      "cell_type": "code",
      "execution_count": 16,
      "id": "96e57c16",
      "metadata": {},
      "outputs": [
        {
          "name": "stdout",
          "output_type": "stream",
          "text": [
            "Total de comentários limpos: 40950\n"
          ]
        },
        {
          "data": {
            "text/html": [
              "<div>\n",
              "<style scoped>\n",
              "    .dataframe tbody tr th:only-of-type {\n",
              "        vertical-align: middle;\n",
              "    }\n",
              "\n",
              "    .dataframe tbody tr th {\n",
              "        vertical-align: top;\n",
              "    }\n",
              "\n",
              "    .dataframe thead th {\n",
              "        text-align: right;\n",
              "    }\n",
              "</style>\n",
              "<table border=\"1\" class=\"dataframe\">\n",
              "  <thead>\n",
              "    <tr style=\"text-align: right;\">\n",
              "      <th></th>\n",
              "      <th>review_comment_message</th>\n",
              "    </tr>\n",
              "  </thead>\n",
              "  <tbody>\n",
              "    <tr>\n",
              "      <th>0</th>\n",
              "      <td>Recebi bem antes do prazo estipulado.</td>\n",
              "    </tr>\n",
              "    <tr>\n",
              "      <th>1</th>\n",
              "      <td>Parabéns lojas lannister adorei comprar pela I...</td>\n",
              "    </tr>\n",
              "    <tr>\n",
              "      <th>2</th>\n",
              "      <td>aparelho eficiente. no site a marca do aparelh...</td>\n",
              "    </tr>\n",
              "    <tr>\n",
              "      <th>3</th>\n",
              "      <td>Mas um pouco ,travando...pelo valor ta Boa.\\r\\n</td>\n",
              "    </tr>\n",
              "    <tr>\n",
              "      <th>4</th>\n",
              "      <td>Vendedor confiável, produto ok e entrega antes...</td>\n",
              "    </tr>\n",
              "  </tbody>\n",
              "</table>\n",
              "</div>"
            ],
            "text/plain": [
              "                              review_comment_message\n",
              "0              Recebi bem antes do prazo estipulado.\n",
              "1  Parabéns lojas lannister adorei comprar pela I...\n",
              "2  aparelho eficiente. no site a marca do aparelh...\n",
              "3    Mas um pouco ,travando...pelo valor ta Boa.\\r\\n\n",
              "4  Vendedor confiável, produto ok e entrega antes..."
            ]
          },
          "execution_count": 16,
          "metadata": {},
          "output_type": "execute_result"
        }
      ],
      "source": [
        "import pandas as pd\n",
        "\n",
        "# Leitura do arquivo CSV\n",
        "df = pd.read_csv(\"data/olist_order_reviews_dataset.csv\", encoding=\"utf-8\")\n",
        "\n",
        "# Limpar e manter apenas mensagens de review\n",
        "df_clean = df[['review_comment_message']].dropna()\n",
        "df_clean = df_clean[df_clean['review_comment_message'].str.strip() != '']\n",
        "df_clean.reset_index(drop=True, inplace=True)\n",
        "\n",
        "print(f'Total de comentários limpos: {len(df_clean)}')\n",
        "df_clean.head()"
      ]
    },
    {
      "cell_type": "markdown",
      "id": "529356b5",
      "metadata": {},
      "source": [
        "## 🧠 Etapa 2: Criar embeddings dos reviews"
      ]
    },
    {
      "cell_type": "code",
      "execution_count": 11,
      "id": "933b2e9a",
      "metadata": {},
      "outputs": [
        {
          "name": "stderr",
          "output_type": "stream",
          "text": [
            "Batches: 100%|██████████| 1280/1280 [03:30<00:00,  6.07it/s]\n"
          ]
        },
        {
          "name": "stdout",
          "output_type": "stream",
          "text": [
            "Embeddings criados! (40950, 384)\n"
          ]
        }
      ],
      "source": [
        "from sentence_transformers import SentenceTransformer\n",
        "\n",
        "# Carregar modelo leve e eficiente\n",
        "modelo = SentenceTransformer('all-MiniLM-L6-v2')\n",
        "\n",
        "# Gerar vetores para os comentários\n",
        "comentarios = df_clean['review_comment_message'].tolist()\n",
        "vetores = modelo.encode(comentarios, show_progress_bar=True)\n",
        "\n",
        "print(\"Embeddings criados!\", vetores.shape)"
      ]
    },
    {
      "cell_type": "markdown",
      "id": "6db7f271",
      "metadata": {},
      "source": [
        "## 🔎 Etapa 3: Indexar os embeddings com FAISS"
      ]
    },
    {
      "cell_type": "code",
      "execution_count": 17,
      "id": "70d41954",
      "metadata": {},
      "outputs": [],
      "source": [
        "import faiss\n",
        "import numpy as np\n",
        "\n",
        "# Criar índice FAISS com vetores\n",
        "dim = vetores.shape[1]\n",
        "indice = faiss.IndexFlatL2(dim)\n",
        "indice.add(np.array(vetores))\n",
        "\n",
        "# Salvar índice para reuso futuro (opcional)\n",
        "faiss.write_index(indice, \"indice_reviews.faiss\")"
      ]
    },
    {
      "cell_type": "markdown",
      "id": "bccfbade",
      "metadata": {},
      "source": [
        "## 🔁 Etapa 4: Buscar comentários semelhantes"
      ]
    },
    {
      "cell_type": "code",
      "execution_count": 18,
      "id": "7fe97765",
      "metadata": {},
      "outputs": [
        {
          "data": {
            "text/html": [
              "<div>\n",
              "<style scoped>\n",
              "    .dataframe tbody tr th:only-of-type {\n",
              "        vertical-align: middle;\n",
              "    }\n",
              "\n",
              "    .dataframe tbody tr th {\n",
              "        vertical-align: top;\n",
              "    }\n",
              "\n",
              "    .dataframe thead th {\n",
              "        text-align: right;\n",
              "    }\n",
              "</style>\n",
              "<table border=\"1\" class=\"dataframe\">\n",
              "  <thead>\n",
              "    <tr style=\"text-align: right;\">\n",
              "      <th></th>\n",
              "      <th>review_comment_message</th>\n",
              "    </tr>\n",
              "  </thead>\n",
              "  <tbody>\n",
              "    <tr>\n",
              "      <th>21981</th>\n",
              "      <td>O produto veio com defeito e atraso na entrega.</td>\n",
              "    </tr>\n",
              "    <tr>\n",
              "      <th>18725</th>\n",
              "      <td>Produto com entrega atrasada</td>\n",
              "    </tr>\n",
              "    <tr>\n",
              "      <th>31047</th>\n",
              "      <td>Produto com o prazo de entrega atrasado</td>\n",
              "    </tr>\n",
              "  </tbody>\n",
              "</table>\n",
              "</div>"
            ],
            "text/plain": [
              "                                review_comment_message\n",
              "21981  O produto veio com defeito e atraso na entrega.\n",
              "18725                     Produto com entrega atrasada\n",
              "31047          Produto com o prazo de entrega atrasado"
            ]
          },
          "execution_count": 18,
          "metadata": {},
          "output_type": "execute_result"
        }
      ],
      "source": [
        "def buscar_reviews_similares(texto: str, top_k: int = 3):\n",
        "    vetor_consulta = modelo.encode([texto])\n",
        "    _, indices = indice.search(np.array(vetor_consulta), top_k)\n",
        "    return df_clean.iloc[indices[0]]\n",
        "\n",
        "# Exemplo de teste:\n",
        "buscar_reviews_similares(\"Produto com defeito e entrega atrasada\")"
      ]
    }
  ],
  "metadata": {
    "kernelspec": {
      "display_name": "Python 3",
      "name": "python3"
    },
    "language_info": {
      "codemirror_mode": {
        "name": "ipython",
        "version": 3
      },
      "file_extension": ".py",
      "mimetype": "text/x-python",
      "name": "python",
      "nbconvert_exporter": "python",
      "pygments_lexer": "ipython3",
      "version": "3.12.10"
    }
  },
  "nbformat": 4,
  "nbformat_minor": 5
}
