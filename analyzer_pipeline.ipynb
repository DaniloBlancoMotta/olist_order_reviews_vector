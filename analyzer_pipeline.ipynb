{
  "cells": [
    {
      "cell_type": "markdown",
      "id": "76f5eec4",
      "metadata": {},
      "source": [
        "# 🧠 Sentiment Analyzer por Review ID\n",
        "Este notebook implementa a ferramenta `sentiment_analyzer` que:\n",
        "- Recebe um `review_id`\n",
        "- Busca o review correspondente\n",
        "- Analisa sentimentos com HuggingFace\n",
        "- Retorna um resumo estruturado em JSON\n"
      ]
    },
    {
      "cell_type": "code",
      "execution_count": 4,
      "id": "81de3f96",
      "metadata": {},
      "outputs": [
        {
          "name": "stderr",
          "output_type": "stream",
          "text": [
            "c:\\Users\\UNIVERSO\\AppData\\Local\\Programs\\Python\\Python312\\Lib\\site-packages\\tqdm\\auto.py:21: TqdmWarning: IProgress not found. Please update jupyter and ipywidgets. See https://ipywidgets.readthedocs.io/en/stable/user_install.html\n",
            "  from .autonotebook import tqdm as notebook_tqdm\n"
          ]
        }
      ],
      "source": [
        "import pandas as pd\n",
        "import numpy as np\n",
        "from transformers import pipeline\n",
        "import json"
      ]
    },
    {
      "cell_type": "markdown",
      "id": "d2c28b98",
      "metadata": {},
      "source": [
        "## 🔹 Carregar os dados do Olist"
      ]
    },
    {
      "cell_type": "code",
      "execution_count": 5,
      "id": "d443c18f",
      "metadata": {},
      "outputs": [
        {
          "name": "stdout",
          "output_type": "stream",
          "text": [
            "Total de reviews carregados: 40950\n"
          ]
        },
        {
          "data": {
            "text/html": [
              "<div>\n",
              "<style scoped>\n",
              "    .dataframe tbody tr th:only-of-type {\n",
              "        vertical-align: middle;\n",
              "    }\n",
              "\n",
              "    .dataframe tbody tr th {\n",
              "        vertical-align: top;\n",
              "    }\n",
              "\n",
              "    .dataframe thead th {\n",
              "        text-align: right;\n",
              "    }\n",
              "</style>\n",
              "<table border=\"1\" class=\"dataframe\">\n",
              "  <thead>\n",
              "    <tr style=\"text-align: right;\">\n",
              "      <th></th>\n",
              "      <th>review_id</th>\n",
              "      <th>order_id</th>\n",
              "      <th>review_score</th>\n",
              "      <th>review_comment_title</th>\n",
              "      <th>review_comment_message</th>\n",
              "      <th>review_creation_date</th>\n",
              "      <th>review_answer_timestamp</th>\n",
              "    </tr>\n",
              "  </thead>\n",
              "  <tbody>\n",
              "    <tr>\n",
              "      <th>0</th>\n",
              "      <td>e64fb393e7b32834bb789ff8bb30750e</td>\n",
              "      <td>658677c97b385a9be170737859d3511b</td>\n",
              "      <td>5</td>\n",
              "      <td>NaN</td>\n",
              "      <td>Recebi bem antes do prazo estipulado.</td>\n",
              "      <td>2017-04-21 00:00:00</td>\n",
              "      <td>2017-04-21 22:02:06</td>\n",
              "    </tr>\n",
              "    <tr>\n",
              "      <th>1</th>\n",
              "      <td>f7c4243c7fe1938f181bec41a392bdeb</td>\n",
              "      <td>8e6bfb81e283fa7e4f11123a3fb894f1</td>\n",
              "      <td>5</td>\n",
              "      <td>NaN</td>\n",
              "      <td>Parabéns lojas lannister adorei comprar pela I...</td>\n",
              "      <td>2018-03-01 00:00:00</td>\n",
              "      <td>2018-03-02 10:26:53</td>\n",
              "    </tr>\n",
              "    <tr>\n",
              "      <th>2</th>\n",
              "      <td>8670d52e15e00043ae7de4c01cc2fe06</td>\n",
              "      <td>b9bf720beb4ab3728760088589c62129</td>\n",
              "      <td>4</td>\n",
              "      <td>recomendo</td>\n",
              "      <td>aparelho eficiente. no site a marca do aparelh...</td>\n",
              "      <td>2018-05-22 00:00:00</td>\n",
              "      <td>2018-05-23 16:45:47</td>\n",
              "    </tr>\n",
              "    <tr>\n",
              "      <th>3</th>\n",
              "      <td>4b49719c8a200003f700d3d986ea1a19</td>\n",
              "      <td>9d6f15f95d01e79bd1349cc208361f09</td>\n",
              "      <td>4</td>\n",
              "      <td>NaN</td>\n",
              "      <td>Mas um pouco ,travando...pelo valor ta Boa.\\r\\n</td>\n",
              "      <td>2018-02-16 00:00:00</td>\n",
              "      <td>2018-02-20 10:52:22</td>\n",
              "    </tr>\n",
              "    <tr>\n",
              "      <th>4</th>\n",
              "      <td>3948b09f7c818e2d86c9a546758b2335</td>\n",
              "      <td>e51478e7e277a83743b6f9991dbfa3fb</td>\n",
              "      <td>5</td>\n",
              "      <td>Super recomendo</td>\n",
              "      <td>Vendedor confiável, produto ok e entrega antes...</td>\n",
              "      <td>2018-05-23 00:00:00</td>\n",
              "      <td>2018-05-24 03:00:01</td>\n",
              "    </tr>\n",
              "  </tbody>\n",
              "</table>\n",
              "</div>"
            ],
            "text/plain": [
              "                          review_id                          order_id  \\\n",
              "0  e64fb393e7b32834bb789ff8bb30750e  658677c97b385a9be170737859d3511b   \n",
              "1  f7c4243c7fe1938f181bec41a392bdeb  8e6bfb81e283fa7e4f11123a3fb894f1   \n",
              "2  8670d52e15e00043ae7de4c01cc2fe06  b9bf720beb4ab3728760088589c62129   \n",
              "3  4b49719c8a200003f700d3d986ea1a19  9d6f15f95d01e79bd1349cc208361f09   \n",
              "4  3948b09f7c818e2d86c9a546758b2335  e51478e7e277a83743b6f9991dbfa3fb   \n",
              "\n",
              "   review_score review_comment_title  \\\n",
              "0             5                  NaN   \n",
              "1             5                  NaN   \n",
              "2             4            recomendo   \n",
              "3             4                  NaN   \n",
              "4             5      Super recomendo   \n",
              "\n",
              "                              review_comment_message review_creation_date  \\\n",
              "0              Recebi bem antes do prazo estipulado.  2017-04-21 00:00:00   \n",
              "1  Parabéns lojas lannister adorei comprar pela I...  2018-03-01 00:00:00   \n",
              "2  aparelho eficiente. no site a marca do aparelh...  2018-05-22 00:00:00   \n",
              "3    Mas um pouco ,travando...pelo valor ta Boa.\\r\\n  2018-02-16 00:00:00   \n",
              "4  Vendedor confiável, produto ok e entrega antes...  2018-05-23 00:00:00   \n",
              "\n",
              "  review_answer_timestamp  \n",
              "0     2017-04-21 22:02:06  \n",
              "1     2018-03-02 10:26:53  \n",
              "2     2018-05-23 16:45:47  \n",
              "3     2018-02-20 10:52:22  \n",
              "4     2018-05-24 03:00:01  "
            ]
          },
          "execution_count": 5,
          "metadata": {},
          "output_type": "execute_result"
        }
      ],
      "source": [
        "# Carregar o dataset de reviews\n",
        "df = pd.read_csv('data/olist_order_reviews_dataset.csv')\n",
        "df = df.dropna(subset=['review_comment_message'])\n",
        "df = df[df['review_comment_message'].str.strip() != '']\n",
        "df.reset_index(drop=True, inplace=True)\n",
        "print(f'Total de reviews carregados: {len(df)}')\n",
        "df.head()"
      ]
    },
    {
      "cell_type": "markdown",
      "id": "e4689668",
      "metadata": {},
      "source": [
        "## 🔹 Carregar o modelo de sentimento"
      ]
    },
    {
      "cell_type": "code",
      "execution_count": 6,
      "id": "edc89397",
      "metadata": {},
      "outputs": [
        {
          "name": "stderr",
          "output_type": "stream",
          "text": [
            "c:\\Users\\UNIVERSO\\AppData\\Local\\Programs\\Python\\Python312\\Lib\\site-packages\\huggingface_hub\\file_download.py:143: UserWarning: `huggingface_hub` cache-system uses symlinks by default to efficiently store duplicated files but your machine does not support them in C:\\Users\\UNIVERSO\\.cache\\huggingface\\hub\\models--cardiffnlp--twitter-roberta-base-sentiment. Caching files will still work but in a degraded version that might require more space on your disk. This warning can be disabled by setting the `HF_HUB_DISABLE_SYMLINKS_WARNING` environment variable. For more details, see https://huggingface.co/docs/huggingface_hub/how-to-cache#limitations.\n",
            "To support symlinks on Windows, you either need to activate Developer Mode or to run Python as an administrator. In order to activate developer mode, see this article: https://docs.microsoft.com/en-us/windows/apps/get-started/enable-your-device-for-development\n",
            "  warnings.warn(message)\n",
            "Xet Storage is enabled for this repo, but the 'hf_xet' package is not installed. Falling back to regular HTTP download. For better performance, install the package with: `pip install huggingface_hub[hf_xet]` or `pip install hf_xet`\n",
            "Xet Storage is enabled for this repo, but the 'hf_xet' package is not installed. Falling back to regular HTTP download. For better performance, install the package with: `pip install huggingface_hub[hf_xet]` or `pip install hf_xet`\n",
            "Device set to use cpu\n"
          ]
        }
      ],
      "source": [
        "sentiment_model = pipeline(\"sentiment-analysis\",\n",
        "                            model=\"cardiffnlp/twitter-roberta-base-sentiment\",\n",
        "                            top_k=None)"
      ]
    },
    {
      "cell_type": "markdown",
      "id": "c7547ae9",
      "metadata": {},
      "source": [
        "## 🔹 Função `sentiment_analyzer(product_id)`"
      ]
    },
    {
      "cell_type": "code",
      "execution_count": 7,
      "id": "0c3aac39",
      "metadata": {},
      "outputs": [
        {
          "name": "stdout",
          "output_type": "stream",
          "text": [
            "Total de reviews carregados: 40950\n"
          ]
        },
        {
          "data": {
            "text/html": [
              "<div>\n",
              "<style scoped>\n",
              "    .dataframe tbody tr th:only-of-type {\n",
              "        vertical-align: middle;\n",
              "    }\n",
              "\n",
              "    .dataframe tbody tr th {\n",
              "        vertical-align: top;\n",
              "    }\n",
              "\n",
              "    .dataframe thead th {\n",
              "        text-align: right;\n",
              "    }\n",
              "</style>\n",
              "<table border=\"1\" class=\"dataframe\">\n",
              "  <thead>\n",
              "    <tr style=\"text-align: right;\">\n",
              "      <th></th>\n",
              "      <th>review_id</th>\n",
              "      <th>order_id</th>\n",
              "      <th>review_score</th>\n",
              "      <th>review_comment_title</th>\n",
              "      <th>review_comment_message</th>\n",
              "      <th>review_creation_date</th>\n",
              "      <th>review_answer_timestamp</th>\n",
              "    </tr>\n",
              "  </thead>\n",
              "  <tbody>\n",
              "    <tr>\n",
              "      <th>0</th>\n",
              "      <td>e64fb393e7b32834bb789ff8bb30750e</td>\n",
              "      <td>658677c97b385a9be170737859d3511b</td>\n",
              "      <td>5</td>\n",
              "      <td>NaN</td>\n",
              "      <td>Recebi bem antes do prazo estipulado.</td>\n",
              "      <td>2017-04-21 00:00:00</td>\n",
              "      <td>2017-04-21 22:02:06</td>\n",
              "    </tr>\n",
              "    <tr>\n",
              "      <th>1</th>\n",
              "      <td>f7c4243c7fe1938f181bec41a392bdeb</td>\n",
              "      <td>8e6bfb81e283fa7e4f11123a3fb894f1</td>\n",
              "      <td>5</td>\n",
              "      <td>NaN</td>\n",
              "      <td>Parabéns lojas lannister adorei comprar pela I...</td>\n",
              "      <td>2018-03-01 00:00:00</td>\n",
              "      <td>2018-03-02 10:26:53</td>\n",
              "    </tr>\n",
              "    <tr>\n",
              "      <th>2</th>\n",
              "      <td>8670d52e15e00043ae7de4c01cc2fe06</td>\n",
              "      <td>b9bf720beb4ab3728760088589c62129</td>\n",
              "      <td>4</td>\n",
              "      <td>recomendo</td>\n",
              "      <td>aparelho eficiente. no site a marca do aparelh...</td>\n",
              "      <td>2018-05-22 00:00:00</td>\n",
              "      <td>2018-05-23 16:45:47</td>\n",
              "    </tr>\n",
              "    <tr>\n",
              "      <th>3</th>\n",
              "      <td>4b49719c8a200003f700d3d986ea1a19</td>\n",
              "      <td>9d6f15f95d01e79bd1349cc208361f09</td>\n",
              "      <td>4</td>\n",
              "      <td>NaN</td>\n",
              "      <td>Mas um pouco ,travando...pelo valor ta Boa.\\r\\n</td>\n",
              "      <td>2018-02-16 00:00:00</td>\n",
              "      <td>2018-02-20 10:52:22</td>\n",
              "    </tr>\n",
              "    <tr>\n",
              "      <th>4</th>\n",
              "      <td>3948b09f7c818e2d86c9a546758b2335</td>\n",
              "      <td>e51478e7e277a83743b6f9991dbfa3fb</td>\n",
              "      <td>5</td>\n",
              "      <td>Super recomendo</td>\n",
              "      <td>Vendedor confiável, produto ok e entrega antes...</td>\n",
              "      <td>2018-05-23 00:00:00</td>\n",
              "      <td>2018-05-24 03:00:01</td>\n",
              "    </tr>\n",
              "  </tbody>\n",
              "</table>\n",
              "</div>"
            ],
            "text/plain": [
              "                          review_id                          order_id  \\\n",
              "0  e64fb393e7b32834bb789ff8bb30750e  658677c97b385a9be170737859d3511b   \n",
              "1  f7c4243c7fe1938f181bec41a392bdeb  8e6bfb81e283fa7e4f11123a3fb894f1   \n",
              "2  8670d52e15e00043ae7de4c01cc2fe06  b9bf720beb4ab3728760088589c62129   \n",
              "3  4b49719c8a200003f700d3d986ea1a19  9d6f15f95d01e79bd1349cc208361f09   \n",
              "4  3948b09f7c818e2d86c9a546758b2335  e51478e7e277a83743b6f9991dbfa3fb   \n",
              "\n",
              "   review_score review_comment_title  \\\n",
              "0             5                  NaN   \n",
              "1             5                  NaN   \n",
              "2             4            recomendo   \n",
              "3             4                  NaN   \n",
              "4             5      Super recomendo   \n",
              "\n",
              "                              review_comment_message review_creation_date  \\\n",
              "0              Recebi bem antes do prazo estipulado.  2017-04-21 00:00:00   \n",
              "1  Parabéns lojas lannister adorei comprar pela I...  2018-03-01 00:00:00   \n",
              "2  aparelho eficiente. no site a marca do aparelh...  2018-05-22 00:00:00   \n",
              "3    Mas um pouco ,travando...pelo valor ta Boa.\\r\\n  2018-02-16 00:00:00   \n",
              "4  Vendedor confiável, produto ok e entrega antes...  2018-05-23 00:00:00   \n",
              "\n",
              "  review_answer_timestamp  \n",
              "0     2017-04-21 22:02:06  \n",
              "1     2018-03-02 10:26:53  \n",
              "2     2018-05-23 16:45:47  \n",
              "3     2018-02-20 10:52:22  \n",
              "4     2018-05-24 03:00:01  "
            ]
          },
          "execution_count": 7,
          "metadata": {},
          "output_type": "execute_result"
        }
      ],
      "source": [
        "# Carregar o dataset de reviews\n",
        "df = pd.read_csv('data/olist_order_reviews_dataset.csv')\n",
        "df = df.dropna(subset=['review_comment_message'])\n",
        "df = df[df['review_comment_message'].str.strip() != '']\n",
        "df.reset_index(drop=True, inplace=True)\n",
        "print(f'Total de reviews carregados: {len(df)}')\n",
        "df.head()"
      ]
    },
    {
      "cell_type": "markdown",
      "id": "34a00bf1",
      "metadata": {},
      "source": [
        "## 🔹 Testar a ferramenta"
      ]
    },
    {
      "cell_type": "code",
      "execution_count": 8,
      "id": "5f7d81ed",
      "metadata": {},
      "outputs": [
        {
          "name": "stdout",
          "output_type": "stream",
          "text": [
            "Total de reviews carregados: 40950\n"
          ]
        },
        {
          "data": {
            "text/html": [
              "<div>\n",
              "<style scoped>\n",
              "    .dataframe tbody tr th:only-of-type {\n",
              "        vertical-align: middle;\n",
              "    }\n",
              "\n",
              "    .dataframe tbody tr th {\n",
              "        vertical-align: top;\n",
              "    }\n",
              "\n",
              "    .dataframe thead th {\n",
              "        text-align: right;\n",
              "    }\n",
              "</style>\n",
              "<table border=\"1\" class=\"dataframe\">\n",
              "  <thead>\n",
              "    <tr style=\"text-align: right;\">\n",
              "      <th></th>\n",
              "      <th>review_id</th>\n",
              "      <th>order_id</th>\n",
              "      <th>review_score</th>\n",
              "      <th>review_comment_title</th>\n",
              "      <th>review_comment_message</th>\n",
              "      <th>review_creation_date</th>\n",
              "      <th>review_answer_timestamp</th>\n",
              "    </tr>\n",
              "  </thead>\n",
              "  <tbody>\n",
              "    <tr>\n",
              "      <th>0</th>\n",
              "      <td>e64fb393e7b32834bb789ff8bb30750e</td>\n",
              "      <td>658677c97b385a9be170737859d3511b</td>\n",
              "      <td>5</td>\n",
              "      <td>NaN</td>\n",
              "      <td>Recebi bem antes do prazo estipulado.</td>\n",
              "      <td>2017-04-21 00:00:00</td>\n",
              "      <td>2017-04-21 22:02:06</td>\n",
              "    </tr>\n",
              "    <tr>\n",
              "      <th>1</th>\n",
              "      <td>f7c4243c7fe1938f181bec41a392bdeb</td>\n",
              "      <td>8e6bfb81e283fa7e4f11123a3fb894f1</td>\n",
              "      <td>5</td>\n",
              "      <td>NaN</td>\n",
              "      <td>Parabéns lojas lannister adorei comprar pela I...</td>\n",
              "      <td>2018-03-01 00:00:00</td>\n",
              "      <td>2018-03-02 10:26:53</td>\n",
              "    </tr>\n",
              "    <tr>\n",
              "      <th>2</th>\n",
              "      <td>8670d52e15e00043ae7de4c01cc2fe06</td>\n",
              "      <td>b9bf720beb4ab3728760088589c62129</td>\n",
              "      <td>4</td>\n",
              "      <td>recomendo</td>\n",
              "      <td>aparelho eficiente. no site a marca do aparelh...</td>\n",
              "      <td>2018-05-22 00:00:00</td>\n",
              "      <td>2018-05-23 16:45:47</td>\n",
              "    </tr>\n",
              "    <tr>\n",
              "      <th>3</th>\n",
              "      <td>4b49719c8a200003f700d3d986ea1a19</td>\n",
              "      <td>9d6f15f95d01e79bd1349cc208361f09</td>\n",
              "      <td>4</td>\n",
              "      <td>NaN</td>\n",
              "      <td>Mas um pouco ,travando...pelo valor ta Boa.\\r\\n</td>\n",
              "      <td>2018-02-16 00:00:00</td>\n",
              "      <td>2018-02-20 10:52:22</td>\n",
              "    </tr>\n",
              "    <tr>\n",
              "      <th>4</th>\n",
              "      <td>3948b09f7c818e2d86c9a546758b2335</td>\n",
              "      <td>e51478e7e277a83743b6f9991dbfa3fb</td>\n",
              "      <td>5</td>\n",
              "      <td>Super recomendo</td>\n",
              "      <td>Vendedor confiável, produto ok e entrega antes...</td>\n",
              "      <td>2018-05-23 00:00:00</td>\n",
              "      <td>2018-05-24 03:00:01</td>\n",
              "    </tr>\n",
              "  </tbody>\n",
              "</table>\n",
              "</div>"
            ],
            "text/plain": [
              "                          review_id                          order_id  \\\n",
              "0  e64fb393e7b32834bb789ff8bb30750e  658677c97b385a9be170737859d3511b   \n",
              "1  f7c4243c7fe1938f181bec41a392bdeb  8e6bfb81e283fa7e4f11123a3fb894f1   \n",
              "2  8670d52e15e00043ae7de4c01cc2fe06  b9bf720beb4ab3728760088589c62129   \n",
              "3  4b49719c8a200003f700d3d986ea1a19  9d6f15f95d01e79bd1349cc208361f09   \n",
              "4  3948b09f7c818e2d86c9a546758b2335  e51478e7e277a83743b6f9991dbfa3fb   \n",
              "\n",
              "   review_score review_comment_title  \\\n",
              "0             5                  NaN   \n",
              "1             5                  NaN   \n",
              "2             4            recomendo   \n",
              "3             4                  NaN   \n",
              "4             5      Super recomendo   \n",
              "\n",
              "                              review_comment_message review_creation_date  \\\n",
              "0              Recebi bem antes do prazo estipulado.  2017-04-21 00:00:00   \n",
              "1  Parabéns lojas lannister adorei comprar pela I...  2018-03-01 00:00:00   \n",
              "2  aparelho eficiente. no site a marca do aparelh...  2018-05-22 00:00:00   \n",
              "3    Mas um pouco ,travando...pelo valor ta Boa.\\r\\n  2018-02-16 00:00:00   \n",
              "4  Vendedor confiável, produto ok e entrega antes...  2018-05-23 00:00:00   \n",
              "\n",
              "  review_answer_timestamp  \n",
              "0     2017-04-21 22:02:06  \n",
              "1     2018-03-02 10:26:53  \n",
              "2     2018-05-23 16:45:47  \n",
              "3     2018-02-20 10:52:22  \n",
              "4     2018-05-24 03:00:01  "
            ]
          },
          "execution_count": 8,
          "metadata": {},
          "output_type": "execute_result"
        }
      ],
      "source": [
        "# Carregar o dataset de reviews\n",
        "df = pd.read_csv('data/olist_order_reviews_dataset.csv')\n",
        "df = df.dropna(subset=['review_comment_message'])\n",
        "df = df[df['review_comment_message'].str.strip() != '']\n",
        "df.reset_index(drop=True, inplace=True)\n",
        "print(f'Total de reviews carregados: {len(df)}')\n",
        "df.head()"
      ]
    },
    {
      "cell_type": "markdown",
      "id": "e386514f",
      "metadata": {},
      "source": [
        "# Etapa 2B – Análise com LLM para Resumo e Extração de Pontos"
      ]
    },
    {
      "cell_type": "markdown",
      "id": "22c160e0",
      "metadata": {},
      "source": [
        "Passo 1: Escolher o modelo apropriado\n",
        "Usaremos o modelo:\n",
        "\n",
        "bash\n",
        "Copiar\n",
        "Editar\n",
        "facebook/bart-large-cnn\n",
        "📌 Ele é eficaz para tarefas de summarization de textos longos, como conjuntos de reviews."
      ]
    },
    {
      "cell_type": "markdown",
      "id": "25673005",
      "metadata": {},
      "source": [
        "Passo 2: Instalar dependências \n",
        "\n"
      ]
    },
    {
      "cell_type": "code",
      "execution_count": null,
      "id": "52232831",
      "metadata": {},
      "outputs": [],
      "source": [
        "no terminal: \n",
        "\n",
        "pip install transformers "
      ]
    },
    {
      "cell_type": "markdown",
      "id": "65f2199e",
      "metadata": {},
      "source": [
        " Passo 3: Carregar o pipeline de resumo"
      ]
    },
    {
      "cell_type": "code",
      "execution_count": 11,
      "id": "8c6d2823",
      "metadata": {},
      "outputs": [
        {
          "name": "stderr",
          "output_type": "stream",
          "text": [
            "Device set to use cpu\n"
          ]
        }
      ],
      "source": [
        "from transformers import pipeline\n",
        "\n",
        "# Carregar pipeline de sumarização\n",
        "summarizer = pipeline(\"summarization\", model=\"facebook/bart-large-cnn\")\n"
      ]
    },
    {
      "cell_type": "markdown",
      "id": "a6e3fd53",
      "metadata": {},
      "source": [
        "Passo 4: Função de análise do conteúdo"
      ]
    },
    {
      "cell_type": "code",
      "execution_count": 12,
      "id": "2dd3c136",
      "metadata": {},
      "outputs": [],
      "source": [
        "def analisar_reviews_com_llm(reviews):\n",
        "    \"\"\"\n",
        "    Recebe uma lista de reviews e retorna:\n",
        "    - Um resumo geral\n",
        "    - Pontos positivos e negativos extraídos de forma simulada\n",
        "    \"\"\"\n",
        "    texto_base = \" \".join(reviews[:10])[:1024]  # Limite de tokens do modelo\n",
        "    resultado = summarizer(texto_base, max_length=130, min_length=30, do_sample=False)\n",
        "\n",
        "    # Simulação controlada de extração de pontos (pode ser refinado com classificação zero-shot)\n",
        "    positivos = [\"Entrega antes do prazo\", \"Produto com qualidade acima da média\", \"Bem embalado\"]\n",
        "    negativos = [\"Pequena variação na cor\", \"Manual não veio em português\"]\n",
        "\n",
        "    return {\n",
        "        \"summary\": resultado[0]['summary_text'],\n",
        "        \"positive_points\": positivos,\n",
        "        \"negative_points\": negativos\n",
        "    }\n"
      ]
    },
    {
      "cell_type": "markdown",
      "id": "f41eee23",
      "metadata": {},
      "source": [
        " Passo 5: Exemplo de uso"
      ]
    },
    {
      "cell_type": "code",
      "execution_count": 13,
      "id": "a05cae27",
      "metadata": {},
      "outputs": [
        {
          "name": "stderr",
          "output_type": "stream",
          "text": [
            "Your max_length is set to 130, but your input_length is only 89. Since this is a summarization task, where outputs shorter than the input are typically wanted, you might consider decreasing max_length manually, e.g. summarizer('...', max_length=44)\n"
          ]
        },
        {
          "name": "stdout",
          "output_type": "stream",
          "text": [
            "{\n",
            "  \"summary\": \"A embalagem veio perfeita, muito protegido. Faltou o manual em português, mas o restante está ótimo. Entrega super rápida, adorei!\",\n",
            "  \"positive_points\": [\n",
            "    \"Entrega antes do prazo\",\n",
            "    \"Produto com qualidade acima da média\",\n",
            "    \"Bem embalado\"\n",
            "  ],\n",
            "  \"negative_points\": [\n",
            "    \"Pequena variação na cor\",\n",
            "    \"Manual não veio em português\"\n",
            "  ]\n",
            "}\n"
          ]
        }
      ],
      "source": [
        "reviews = [\n",
        "    \"Entrega super rápida, adorei!\",\n",
        "    \"A qualidade do produto é excelente.\",\n",
        "    \"A embalagem veio perfeita, muito protegido.\",\n",
        "    \"A cor não era exatamente como na foto, mas gostei mesmo assim.\",\n",
        "    \"Faltou o manual em português, mas o restante está ótimo.\"\n",
        "]\n",
        "\n",
        "resultado = analisar_reviews_com_llm(reviews)\n",
        "\n",
        "import json\n",
        "print(json.dumps(resultado, indent=2, ensure_ascii=False))\n"
      ]
    },
    {
      "cell_type": "markdown",
      "id": "4175b325",
      "metadata": {},
      "source": [
        "✅ Saída esperada (simulada):"
      ]
    },
    {
      "cell_type": "code",
      "execution_count": 14,
      "id": "017e2f96",
      "metadata": {},
      "outputs": [
        {
          "data": {
            "text/plain": [
              "{'summary': 'Os clientes elogiaram a qualidade e rapidez da entrega, com leves ressalvas sobre variações de cor e documentação.',\n",
              " 'positive_points': ['Entrega antes do prazo',\n",
              "  'Produto com qualidade acima da média',\n",
              "  'Bem embalado'],\n",
              " 'negative_points': ['Pequena variação na cor',\n",
              "  'Manual não veio em português']}"
            ]
          },
          "execution_count": 14,
          "metadata": {},
          "output_type": "execute_result"
        }
      ],
      "source": [
        "{\n",
        "  \"summary\": \"Os clientes elogiaram a qualidade e rapidez da entrega, com leves ressalvas sobre variações de cor e documentação.\",\n",
        "  \"positive_points\": [\n",
        "    \"Entrega antes do prazo\",\n",
        "    \"Produto com qualidade acima da média\",\n",
        "    \"Bem embalado\"\n",
        "  ],\n",
        "  \"negative_points\": [\n",
        "    \"Pequena variação na cor\",\n",
        "    \"Manual não veio em português\"\n",
        "  ]\n",
        "}\n"
      ]
    }
  ],
  "metadata": {
    "kernelspec": {
      "display_name": "Python 3",
      "language": "python",
      "name": "python3"
    },
    "language_info": {
      "codemirror_mode": {
        "name": "ipython",
        "version": 3
      },
      "file_extension": ".py",
      "mimetype": "text/x-python",
      "name": "python",
      "nbconvert_exporter": "python",
      "pygments_lexer": "ipython3",
      "version": "3.12.10"
    }
  },
  "nbformat": 4,
  "nbformat_minor": 5
}
